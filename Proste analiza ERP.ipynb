{
 "cells": [
  {
   "cell_type": "code",
   "execution_count": 1,
   "metadata": {},
   "outputs": [],
   "source": [
    "import matplotlib\n",
    "matplotlib.use('Qt5Agg')"
   ]
  },
  {
   "cell_type": "code",
   "execution_count": 2,
   "metadata": {},
   "outputs": [],
   "source": [
    "import numpy as np\n",
    "import mne\n",
    "from mne.datasets import sample"
   ]
  },
  {
   "cell_type": "code",
   "execution_count": 3,
   "metadata": {},
   "outputs": [],
   "source": [
    "data_path = sample.data_path()"
   ]
  },
  {
   "cell_type": "markdown",
   "metadata": {},
   "source": [
    " "
   ]
  },
  {
   "cell_type": "markdown",
   "metadata": {},
   "source": [
    " "
   ]
  },
  {
   "cell_type": "markdown",
   "metadata": {},
   "source": [
    "Wczytujemy dane"
   ]
  },
  {
   "cell_type": "code",
   "execution_count": 5,
   "metadata": {},
   "outputs": [
    {
     "name": "stdout",
     "output_type": "stream",
     "text": [
      "Opening raw data file C:\\Users\\marcin\\mne_data\\MNE-sample-data\\MEG\\sample\\sample_audvis_filt-0-40_raw.fif...\n",
      "    Read a total of 4 projection items:\n",
      "        PCA-v1 (1 x 102)  idle\n",
      "        PCA-v2 (1 x 102)  idle\n",
      "        PCA-v3 (1 x 102)  idle\n",
      "        Average EEG reference (1 x 60)  idle\n",
      "    Range : 6450 ... 48149 =     42.956 ...   320.665 secs\n",
      "Ready.\n",
      "Current compensation grade : 0\n",
      "Reading 0 ... 41699  =      0.000 ...   277.709 secs...\n",
      "Setting up band-pass filter from 0.1 - 60 Hz\n",
      "l_trans_bandwidth chosen to be 0.1 Hz\n",
      "h_trans_bandwidth chosen to be 15.0 Hz\n",
      "Filter length of 4955 samples (33.000 sec) selected\n"
     ]
    }
   ],
   "source": [
    "raw_fname = data_path + '/MEG/sample/sample_audvis_filt-0-40_raw.fif'\n",
    "event_fname = data_path + '/MEG/sample/sample_audvis_filt-0-40_raw-eve.fif'\n",
    "tmin, tmax = -0.1, 0.3\n",
    "\n",
    "raw = mne.io.read_raw_fif(raw_fname, preload=True)\n",
    "\n",
    "raw.filter(0.1, 60, fir_design='firwin')\n",
    "events = mne.read_events(event_fname)"
   ]
  },
  {
   "cell_type": "code",
   "execution_count": 6,
   "metadata": {},
   "outputs": [
    {
     "data": {
      "text/plain": [
       "<Figure size 3840x2052 with 5 Axes>"
      ]
     },
     "execution_count": 6,
     "metadata": {},
     "output_type": "execute_result"
    }
   ],
   "source": [
    "raw.plot()"
   ]
  },
  {
   "cell_type": "markdown",
   "metadata": {},
   "source": [
    " "
   ]
  },
  {
   "cell_type": "markdown",
   "metadata": {},
   "source": [
    " "
   ]
  },
  {
   "cell_type": "markdown",
   "metadata": {},
   "source": [
    "Usunięcie komponentów ocznych za pomocą regresji."
   ]
  },
  {
   "cell_type": "code",
   "execution_count": 7,
   "metadata": {},
   "outputs": [],
   "source": [
    "raw2 = raw.copy()"
   ]
  },
  {
   "cell_type": "code",
   "execution_count": 8,
   "metadata": {},
   "outputs": [],
   "source": [
    "eog_chan = mne.pick_channels(raw2.ch_names, ['EOG 061'])\n",
    "EOG = raw2.get_data()[eog_chan, :]"
   ]
  },
  {
   "cell_type": "code",
   "execution_count": 9,
   "metadata": {},
   "outputs": [],
   "source": [
    "picks = mne.pick_types(raw2.info, meg=False, eeg=True, stim=False, eog=False, exclude='bads')\n",
    "EEG = raw2.get_data()[picks, :]"
   ]
  },
  {
   "cell_type": "markdown",
   "metadata": {},
   "source": [
    " "
   ]
  },
  {
   "cell_type": "code",
   "execution_count": 10,
   "metadata": {},
   "outputs": [],
   "source": [
    "b = np.linalg.inv(EOG @ EOG.T) @ EOG @ EEG.T\n",
    "EEG_corrected = (EEG.T - EOG.T @ b).T"
   ]
  },
  {
   "cell_type": "code",
   "execution_count": 11,
   "metadata": {},
   "outputs": [],
   "source": [
    "raw2._data[picks, :] = EEG_corrected"
   ]
  },
  {
   "cell_type": "code",
   "execution_count": 12,
   "metadata": {},
   "outputs": [
    {
     "data": {
      "text/plain": [
       "<Figure size 3840x2052 with 5 Axes>"
      ]
     },
     "execution_count": 12,
     "metadata": {},
     "output_type": "execute_result"
    }
   ],
   "source": [
    "raw2.plot()"
   ]
  },
  {
   "cell_type": "markdown",
   "metadata": {},
   "source": [
    " "
   ]
  },
  {
   "cell_type": "markdown",
   "metadata": {},
   "source": [
    " "
   ]
  },
  {
   "cell_type": "markdown",
   "metadata": {},
   "source": [
    " "
   ]
  },
  {
   "cell_type": "markdown",
   "metadata": {},
   "source": [
    "Usunięcie ocznych artefaktów za pomocą ICA"
   ]
  },
  {
   "cell_type": "code",
   "execution_count": 13,
   "metadata": {},
   "outputs": [],
   "source": [
    "from mne.preprocessing import ICA"
   ]
  },
  {
   "cell_type": "code",
   "execution_count": 14,
   "metadata": {},
   "outputs": [
    {
     "data": {
      "text/plain": [
       "<Raw  |  sample_audvis_filt-0-40_raw.fif, n_channels x n_times : 60 x 41700 (277.7 sec), ~22.1 MB, data loaded>"
      ]
     },
     "execution_count": 14,
     "metadata": {},
     "output_type": "execute_result"
    }
   ],
   "source": [
    "raw.pick_types(meg=False, eeg=True, eog=True, exclude='bads')"
   ]
  },
  {
   "cell_type": "code",
   "execution_count": 15,
   "metadata": {},
   "outputs": [
    {
     "name": "stdout",
     "output_type": "stream",
     "text": [
      "Fitting ICA to data using 59 channels (please be patient, this may take a while)\n",
      "Inferring max_pca_components from picks\n",
      "Using all PCA components: 59\n",
      "Fitting ICA took 2.0s.\n"
     ]
    },
    {
     "data": {
      "text/plain": [
       "<ICA  |  raw data decomposition, fit (fastica): 41700 samples, 59 components, channels used: \"eeg\">"
      ]
     },
     "execution_count": 15,
     "metadata": {},
     "output_type": "execute_result"
    }
   ],
   "source": [
    "ica_data = ICA(method='fastica', random_state=0, max_iter=500)\n",
    "ica_data.fit(raw)"
   ]
  },
  {
   "cell_type": "code",
   "execution_count": 16,
   "metadata": {},
   "outputs": [
    {
     "data": {
      "text/plain": [
       "<Figure size 750x696 with 20 Axes>"
      ]
     },
     "execution_count": 16,
     "metadata": {},
     "output_type": "execute_result"
    }
   ],
   "source": [
    "ica_data.plot_components(range(20), inst=raw)"
   ]
  },
  {
   "cell_type": "code",
   "execution_count": 17,
   "metadata": {},
   "outputs": [],
   "source": [
    "ica_data.exclude = [0]"
   ]
  },
  {
   "cell_type": "code",
   "execution_count": 18,
   "metadata": {},
   "outputs": [
    {
     "name": "stdout",
     "output_type": "stream",
     "text": [
      "Transforming to ICA space (59 components)\n",
      "Zeroing out 1 ICA components\n"
     ]
    },
    {
     "data": {
      "text/plain": [
       "<Raw  |  sample_audvis_filt-0-40_raw.fif, n_channels x n_times : 60 x 41700 (277.7 sec), ~22.1 MB, data loaded>"
      ]
     },
     "execution_count": 18,
     "metadata": {},
     "output_type": "execute_result"
    }
   ],
   "source": [
    "ica_data.apply(raw)"
   ]
  },
  {
   "cell_type": "code",
   "execution_count": 19,
   "metadata": {},
   "outputs": [
    {
     "data": {
      "text/plain": [
       "<Figure size 3840x2048 with 5 Axes>"
      ]
     },
     "execution_count": 19,
     "metadata": {},
     "output_type": "execute_result"
    }
   ],
   "source": [
    "raw.plot()"
   ]
  },
  {
   "cell_type": "markdown",
   "metadata": {},
   "source": [
    " "
   ]
  },
  {
   "cell_type": "markdown",
   "metadata": {},
   "source": [
    " "
   ]
  },
  {
   "cell_type": "markdown",
   "metadata": {},
   "source": [
    "Wybieramy dane, które będą nas interesować."
   ]
  },
  {
   "cell_type": "code",
   "execution_count": 20,
   "metadata": {},
   "outputs": [
    {
     "data": {
      "text/plain": [
       "array([[ 6994,     0,     2],\n",
       "       [ 7086,     0,     3],\n",
       "       [ 7192,     0,     1],\n",
       "       [ 7304,     0,     4],\n",
       "       [ 7413,     0,     2],\n",
       "       [ 7506,     0,     3],\n",
       "       [ 7612,     0,     1],\n",
       "       [ 7709,     0,     4],\n",
       "       [ 7810,     0,     2],\n",
       "       [ 7916,     0,     3],\n",
       "       [ 8025,     0,     1],\n",
       "       [ 8129,     0,     4],\n",
       "       [ 8233,     0,     2],\n",
       "       [ 8331,     0,     3],\n",
       "       [ 8428,     0,     1],\n",
       "       [ 8522,     0,     5],\n",
       "       [ 8633,     0,     2],\n",
       "       [ 8662,     0,    32],\n",
       "       [ 8739,     0,     3],\n",
       "       [ 8857,     0,     1],\n",
       "       [ 8962,     0,     4],\n",
       "       [ 9052,     0,     2],\n",
       "       [ 9144,     0,     3],\n",
       "       [ 9251,     0,     1],\n",
       "       [ 9365,     0,     4],\n",
       "       [ 9477,     0,     2],\n",
       "       [ 9581,     0,     3],\n",
       "       [ 9677,     0,     1],\n",
       "       [ 9782,     0,     4],\n",
       "       [ 9890,     0,     2],\n",
       "       [ 9981,     0,     3],\n",
       "       [10101,     0,     1],\n",
       "       [10220,     0,     4],\n",
       "       [10315,     0,     2],\n",
       "       [10411,     0,     3],\n",
       "       [10531,     0,     1],\n",
       "       [10649,     0,     5],\n",
       "       [10734,     0,    32],\n",
       "       [10740,     0,     2],\n",
       "       [10836,     0,     3],\n",
       "       [10945,     0,     1],\n",
       "       [11042,     0,     4],\n",
       "       [11162,     0,     2],\n",
       "       [11278,     0,     3],\n",
       "       [11371,     0,     1],\n",
       "       [11465,     0,     4],\n",
       "       [11560,     0,     2],\n",
       "       [11671,     0,     3],\n",
       "       [11773,     0,     1],\n",
       "       [11882,     0,     4],\n",
       "       [11973,     0,     2],\n",
       "       [12071,     0,     3],\n",
       "       [12180,     0,     1],\n",
       "       [12275,     0,     4],\n",
       "       [12367,     0,     2],\n",
       "       [12474,     0,     3],\n",
       "       [12567,     0,     1],\n",
       "       [12670,     0,     4],\n",
       "       [12761,     0,     2],\n",
       "       [12859,     0,     5],\n",
       "       [12950,     0,    32],\n",
       "       [12970,     0,     1],\n",
       "       [13063,     0,     4],\n",
       "       [13168,     0,     2],\n",
       "       [13279,     0,     3],\n",
       "       [13373,     0,     1],\n",
       "       [13478,     0,     4],\n",
       "       [13580,     0,     2],\n",
       "       [13674,     0,     3],\n",
       "       [13775,     0,     1],\n",
       "       [13865,     0,     4],\n",
       "       [13969,     0,     2],\n",
       "       [14067,     0,     3],\n",
       "       [14179,     0,     1],\n",
       "       [14295,     0,     4],\n",
       "       [14403,     0,     2],\n",
       "       [14519,     0,     3],\n",
       "       [14612,     0,     1],\n",
       "       [14728,     0,     4],\n",
       "       [14830,     0,     5],\n",
       "       [14919,     0,    32],\n",
       "       [14934,     0,     3],\n",
       "       [15032,     0,     1],\n",
       "       [15140,     0,     4],\n",
       "       [15258,     0,     2],\n",
       "       [15364,     0,     3],\n",
       "       [15467,     0,     1],\n",
       "       [15570,     0,     4],\n",
       "       [15670,     0,     2],\n",
       "       [15767,     0,     3],\n",
       "       [15883,     0,     1],\n",
       "       [15980,     0,     4],\n",
       "       [16096,     0,     2],\n",
       "       [16192,     0,     3],\n",
       "       [16295,     0,     1],\n",
       "       [16410,     0,     4],\n",
       "       [16517,     0,     2],\n",
       "       [16634,     0,     3],\n",
       "       [16741,     0,     1],\n",
       "       [16850,     0,     5],\n",
       "       [16945,     0,    32],\n",
       "       [16952,     0,     2],\n",
       "       [17049,     0,     3],\n",
       "       [17166,     0,     1],\n",
       "       [17265,     0,     4],\n",
       "       [17364,     0,     2],\n",
       "       [17464,     0,     3],\n",
       "       [17564,     0,     1],\n",
       "       [17665,     0,     4],\n",
       "       [17782,     0,     2],\n",
       "       [17902,     0,     3],\n",
       "       [17997,     0,     1],\n",
       "       [18110,     0,     4],\n",
       "       [18206,     0,     2],\n",
       "       [18314,     0,     3],\n",
       "       [18429,     0,     1],\n",
       "       [18543,     0,     4],\n",
       "       [18635,     0,     2],\n",
       "       [18729,     0,     3],\n",
       "       [18826,     0,     5],\n",
       "       [18906,     0,    32],\n",
       "       [18931,     0,     4],\n",
       "       [19021,     0,     2],\n",
       "       [19119,     0,     3],\n",
       "       [19223,     0,     1],\n",
       "       [19326,     0,     4],\n",
       "       [19420,     0,     2],\n",
       "       [19532,     0,     3],\n",
       "       [19634,     0,     1],\n",
       "       [19733,     0,     4],\n",
       "       [19840,     0,     2],\n",
       "       [19954,     0,     3],\n",
       "       [20052,     0,     1],\n",
       "       [20156,     0,     4],\n",
       "       [20254,     0,     2],\n",
       "       [20360,     0,     3],\n",
       "       [20477,     0,     1],\n",
       "       [20583,     0,     4],\n",
       "       [20678,     0,     2],\n",
       "       [20787,     0,     3],\n",
       "       [20892,     0,     1],\n",
       "       [20996,     0,     4],\n",
       "       [21111,     0,     2],\n",
       "       [21224,     0,     5],\n",
       "       [21277,     0,    32],\n",
       "       [21324,     0,     1],\n",
       "       [21416,     0,     4],\n",
       "       [21526,     0,     2],\n",
       "       [21630,     0,     3],\n",
       "       [21742,     0,     1],\n",
       "       [21838,     0,     4],\n",
       "       [21931,     0,     2],\n",
       "       [22037,     0,     3],\n",
       "       [22148,     0,     1],\n",
       "       [22256,     0,     4],\n",
       "       [22374,     0,     2],\n",
       "       [22487,     0,     3],\n",
       "       [22604,     0,     1],\n",
       "       [22703,     0,     4],\n",
       "       [22798,     0,     2],\n",
       "       [22900,     0,     3],\n",
       "       [23009,     0,     1],\n",
       "       [23103,     0,     4],\n",
       "       [23200,     0,     5],\n",
       "       [23254,     0,    32],\n",
       "       [23317,     0,     3],\n",
       "       [23417,     0,     1],\n",
       "       [23523,     0,     4],\n",
       "       [23635,     0,     2],\n",
       "       [23740,     0,     3],\n",
       "       [23858,     0,     1],\n",
       "       [23970,     0,     4],\n",
       "       [24082,     0,     2],\n",
       "       [24197,     0,     3],\n",
       "       [24308,     0,     1],\n",
       "       [24425,     0,     4],\n",
       "       [24528,     0,     2],\n",
       "       [24624,     0,     3],\n",
       "       [24725,     0,     1],\n",
       "       [24840,     0,     4],\n",
       "       [24948,     0,     2],\n",
       "       [25039,     0,     3],\n",
       "       [25155,     0,     1],\n",
       "       [25272,     0,     5],\n",
       "       [25367,     0,     2],\n",
       "       [25385,     0,    32],\n",
       "       [25477,     0,     3],\n",
       "       [25572,     0,     1],\n",
       "       [25678,     0,     4],\n",
       "       [25798,     0,     2],\n",
       "       [25897,     0,     3],\n",
       "       [26008,     0,     1],\n",
       "       [26108,     0,     4],\n",
       "       [26227,     0,     2],\n",
       "       [26337,     0,     3],\n",
       "       [26440,     0,     1],\n",
       "       [26543,     0,     4],\n",
       "       [26655,     0,     2],\n",
       "       [26747,     0,     3],\n",
       "       [26838,     0,     1],\n",
       "       [26935,     0,     4],\n",
       "       [27042,     0,     2],\n",
       "       [27154,     0,     3],\n",
       "       [27243,     0,     5],\n",
       "       [27331,     0,    32],\n",
       "       [27341,     0,     4],\n",
       "       [27435,     0,     2],\n",
       "       [27552,     0,     3],\n",
       "       [27643,     0,     1],\n",
       "       [27751,     0,     4],\n",
       "       [27860,     0,     2],\n",
       "       [27959,     0,     3],\n",
       "       [28073,     0,     1],\n",
       "       [28185,     0,     4],\n",
       "       [28285,     0,     2],\n",
       "       [28397,     0,     3],\n",
       "       [28488,     0,     1],\n",
       "       [28581,     0,     4],\n",
       "       [28685,     0,     2],\n",
       "       [28790,     0,     3],\n",
       "       [28904,     0,     1],\n",
       "       [29020,     0,     4],\n",
       "       [29131,     0,     2],\n",
       "       [29232,     0,     3],\n",
       "       [29326,     0,     1],\n",
       "       [29428,     0,     4],\n",
       "       [29525,     0,     5],\n",
       "       [29592,     0,    32],\n",
       "       [29620,     0,     3],\n",
       "       [29719,     0,     1],\n",
       "       [29808,     0,     4],\n",
       "       [29924,     0,     2],\n",
       "       [30027,     0,     3],\n",
       "       [30134,     0,     1],\n",
       "       [30246,     0,     4],\n",
       "       [30348,     0,     2],\n",
       "       [30450,     0,     3],\n",
       "       [30554,     0,     1],\n",
       "       [30671,     0,     4],\n",
       "       [30766,     0,     2],\n",
       "       [30862,     0,     3],\n",
       "       [30982,     0,     1],\n",
       "       [31101,     0,     4],\n",
       "       [31207,     0,     2],\n",
       "       [31325,     0,     3],\n",
       "       [31427,     0,     1],\n",
       "       [31530,     0,     5],\n",
       "       [31617,     0,    32],\n",
       "       [31636,     0,     2],\n",
       "       [31737,     0,     3],\n",
       "       [31832,     0,     1],\n",
       "       [31926,     0,     4],\n",
       "       [32018,     0,     2],\n",
       "       [32127,     0,     3],\n",
       "       [32231,     0,     1],\n",
       "       [32321,     0,     4],\n",
       "       [32433,     0,     2],\n",
       "       [32527,     0,     3],\n",
       "       [32623,     0,     1],\n",
       "       [32719,     0,     4],\n",
       "       [32813,     0,     2],\n",
       "       [32918,     0,     3],\n",
       "       [33020,     0,     1],\n",
       "       [33139,     0,     4],\n",
       "       [33243,     0,     2],\n",
       "       [33362,     0,     3],\n",
       "       [33481,     0,     5],\n",
       "       [33571,     0,    32],\n",
       "       [33579,     0,     4],\n",
       "       [33682,     0,     2],\n",
       "       [33775,     0,     3],\n",
       "       [33883,     0,     1],\n",
       "       [33979,     0,     4],\n",
       "       [34071,     0,     2],\n",
       "       [34180,     0,     3],\n",
       "       [34283,     0,     1],\n",
       "       [34394,     0,     4],\n",
       "       [34498,     0,     2],\n",
       "       [34603,     0,     3],\n",
       "       [34709,     0,     1],\n",
       "       [34826,     0,     4],\n",
       "       [34934,     0,     2],\n",
       "       [35047,     0,     3],\n",
       "       [35153,     0,     1],\n",
       "       [35271,     0,     4],\n",
       "       [35390,     0,     2],\n",
       "       [35495,     0,     3],\n",
       "       [35611,     0,     5],\n",
       "       [35703,     0,    32],\n",
       "       [35804,     0,     2],\n",
       "       [35917,     0,     3],\n",
       "       [36017,     0,     1],\n",
       "       [36136,     0,     4],\n",
       "       [36229,     0,     2],\n",
       "       [36322,     0,     3],\n",
       "       [36416,     0,     1],\n",
       "       [36521,     0,     4],\n",
       "       [36636,     0,     2],\n",
       "       [36752,     0,     3],\n",
       "       [36864,     0,     1],\n",
       "       [36963,     0,     4],\n",
       "       [37076,     0,     2],\n",
       "       [37180,     0,     3],\n",
       "       [37290,     0,     1],\n",
       "       [37388,     0,     4],\n",
       "       [37497,     0,     2],\n",
       "       [37607,     0,     3],\n",
       "       [37718,     0,     1],\n",
       "       [37816,     0,     4],\n",
       "       [37906,     0,     2],\n",
       "       [38007,     0,     5],\n",
       "       [38084,     0,    32],\n",
       "       [38106,     0,     1],\n",
       "       [38206,     0,     4],\n",
       "       [38302,     0,     2],\n",
       "       [38420,     0,     3],\n",
       "       [38520,     0,     1],\n",
       "       [38621,     0,     4],\n",
       "       [42168,     0,    32]])"
      ]
     },
     "execution_count": 20,
     "metadata": {},
     "output_type": "execute_result"
    }
   ],
   "source": [
    "events"
   ]
  },
  {
   "cell_type": "code",
   "execution_count": 21,
   "metadata": {},
   "outputs": [],
   "source": [
    "event_id = {'left/auditory': 1, 'right/auditory': 2,\n",
    "            'left/visual': 3, 'right/visual': 4}"
   ]
  },
  {
   "cell_type": "code",
   "execution_count": 22,
   "metadata": {},
   "outputs": [],
   "source": [
    "picks = mne.pick_types(raw.info, meg=False, eeg=True, stim=False, eog=False, exclude='bads')\n",
    "\n",
    "epochs = mne.Epochs(raw, events, event_id, tmin, tmax, proj=False, picks=picks, baseline=None, preload=True, verbose=False)"
   ]
  },
  {
   "cell_type": "code",
   "execution_count": null,
   "metadata": {},
   "outputs": [],
   "source": []
  },
  {
   "cell_type": "code",
   "execution_count": null,
   "metadata": {},
   "outputs": [],
   "source": []
  },
  {
   "cell_type": "code",
   "execution_count": 23,
   "metadata": {},
   "outputs": [],
   "source": [
    "x = epochs.average()\n",
    "x.plot_joint(times=[0.1], ts_args=dict(time_unit='s'), topomap_args=dict(time_unit='s'));"
   ]
  },
  {
   "cell_type": "code",
   "execution_count": 24,
   "metadata": {},
   "outputs": [],
   "source": [
    "epochs['auditory','left'].average().plot_joint(times=[0.1], ts_args=dict(time_unit='s'), topomap_args=dict(time_unit='s'));"
   ]
  },
  {
   "cell_type": "code",
   "execution_count": 25,
   "metadata": {},
   "outputs": [],
   "source": [
    "epochs['right'].average().plot_joint(times=[0.1], ts_args=dict(time_unit='s'), topomap_args=dict(time_unit='s'));"
   ]
  },
  {
   "cell_type": "code",
   "execution_count": null,
   "metadata": {},
   "outputs": [],
   "source": []
  },
  {
   "cell_type": "code",
   "execution_count": null,
   "metadata": {},
   "outputs": [],
   "source": []
  }
 ],
 "metadata": {
  "kernelspec": {
   "display_name": "MNE",
   "language": "python",
   "name": "mne"
  },
  "language_info": {
   "codemirror_mode": {
    "name": "ipython",
    "version": 3
   },
   "file_extension": ".py",
   "mimetype": "text/x-python",
   "name": "python",
   "nbconvert_exporter": "python",
   "pygments_lexer": "ipython3",
   "version": "3.6.6"
  }
 },
 "nbformat": 4,
 "nbformat_minor": 2
}
