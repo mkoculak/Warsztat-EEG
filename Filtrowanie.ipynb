{
 "cells": [
  {
   "cell_type": "code",
   "execution_count": 1,
   "metadata": {},
   "outputs": [],
   "source": [
    "import matplotlib\n",
    "matplotlib.use('Qt5Agg')"
   ]
  },
  {
   "cell_type": "code",
   "execution_count": 2,
   "metadata": {},
   "outputs": [],
   "source": [
    "import numpy as np\n",
    "import matplotlib.pyplot as plt\n",
    "import mne"
   ]
  },
  {
   "cell_type": "code",
   "execution_count": 3,
   "metadata": {},
   "outputs": [],
   "source": [
    "def generate_sine(freq, length, sampling=1000):\n",
    "    vector = np.linspace(0,length,length*sampling+1)\n",
    "    wave = np.sin(vector*freq*2*np.pi)\n",
    "    return wave"
   ]
  },
  {
   "cell_type": "code",
   "execution_count": 4,
   "metadata": {},
   "outputs": [],
   "source": [
    "def generate_noise(length, sampling=1000):\n",
    "    vector = np.random.random(length*sampling+1)\n",
    "    return vector"
   ]
  },
  {
   "cell_type": "code",
   "execution_count": 5,
   "metadata": {},
   "outputs": [],
   "source": [
    "length = 20\n",
    "\n",
    "hertz05 = generate_sine(0.5,length)\n",
    "hertz10 = generate_sine(10,length)\n",
    "hertz50 = generate_sine(50,length)\n",
    "hertz100 = generate_sine(100,length)\n",
    "\n",
    "noise = generate_noise(length)"
   ]
  },
  {
   "cell_type": "code",
   "execution_count": 6,
   "metadata": {},
   "outputs": [],
   "source": [
    "signal = hertz05*0.5 + hertz10 + hertz50*0.3 + hertz100*0.1 + noise*0.1"
   ]
  },
  {
   "cell_type": "code",
   "execution_count": 7,
   "metadata": {},
   "outputs": [],
   "source": [
    "signal = signal.reshape(1,20001)"
   ]
  },
  {
   "cell_type": "code",
   "execution_count": 8,
   "metadata": {},
   "outputs": [],
   "source": [
    "sig2 = np.concatenate((signal, signal*2))"
   ]
  },
  {
   "cell_type": "code",
   "execution_count": 9,
   "metadata": {},
   "outputs": [
    {
     "name": "stdout",
     "output_type": "stream",
     "text": [
      "Channel names are not unique, found duplicates for: {'One'}. Applying running numbers for duplicates.\n",
      "Creating RawArray with float64 data, n_channels=2, n_times=20001\n",
      "    Range : 0 ... 20000 =      0.000 ...    20.000 secs\n",
      "Ready.\n"
     ]
    },
    {
     "name": "stderr",
     "output_type": "stream",
     "text": [
      "<ipython-input-9-4a54fc4431da>:1: RuntimeWarning: Channel names are not unique, found duplicates for: {'One'}. Applying running numbers for duplicates.\n",
      "  data = mne.io.RawArray(sig2,mne.create_info(['One','One'],1000,ch_types=['eeg','eeg']))\n"
     ]
    }
   ],
   "source": [
    "data = mne.io.RawArray(sig2,mne.create_info(['One','One'],1000,ch_types=['eeg','eeg']))"
   ]
  },
  {
   "cell_type": "code",
   "execution_count": 10,
   "metadata": {},
   "outputs": [],
   "source": [
    "wykres = data.plot(n_channels=2, scalings='auto')"
   ]
  },
  {
   "cell_type": "code",
   "execution_count": 17,
   "metadata": {},
   "outputs": [
    {
     "data": {
      "text/plain": [
       "[<matplotlib.axes._subplots.AxesSubplot at 0x22ffa214048>,\n",
       " <matplotlib.axes._subplots.AxesSubplot at 0x22ffa23d438>,\n",
       " <matplotlib.axes._subplots.AxesSubplot at 0x22ffa264ac8>,\n",
       " <matplotlib.axes._subplots.AxesSubplot at 0x22ffa2971d0>]"
      ]
     },
     "execution_count": 17,
     "metadata": {},
     "output_type": "execute_result"
    }
   ],
   "source": [
    "wykres.axes"
   ]
  },
  {
   "cell_type": "code",
   "execution_count": 11,
   "metadata": {},
   "outputs": [
    {
     "ename": "TypeError",
     "evalue": "'Figure' object is not subscriptable",
     "output_type": "error",
     "traceback": [
      "\u001b[1;31m---------------------------------------------------------------------------\u001b[0m",
      "\u001b[1;31mTypeError\u001b[0m                                 Traceback (most recent call last)",
      "\u001b[1;32m<ipython-input-11-b742380b346d>\u001b[0m in \u001b[0;36m<module>\u001b[1;34m()\u001b[0m\n\u001b[1;32m----> 1\u001b[1;33m \u001b[0mwykres\u001b[0m\u001b[1;33m[\u001b[0m\u001b[1;34m'lines'\u001b[0m\u001b[1;33m]\u001b[0m\u001b[1;33m\u001b[0m\u001b[0m\n\u001b[0m",
      "\u001b[1;31mTypeError\u001b[0m: 'Figure' object is not subscriptable"
     ]
    }
   ],
   "source": [
    "wykres['lines']"
   ]
  },
  {
   "cell_type": "code",
   "execution_count": 25,
   "metadata": {},
   "outputs": [],
   "source": [
    "fig2 = plt.figure();\n",
    "wykres['ax'].figure=fig2;\n",
    "fig2.axes.append(wykres['ax']);\n",
    "fig2.add_axes(wykres['ax']);\n",
    "\n",
    "dummy = fig2.add_subplot(111);\n",
    "wykres['ax'].set_position(dummy.get_position());\n",
    "dummy.remove()\n",
    "\n",
    "plt.show()"
   ]
  },
  {
   "cell_type": "code",
   "execution_count": null,
   "metadata": {},
   "outputs": [],
   "source": []
  },
  {
   "cell_type": "code",
   "execution_count": null,
   "metadata": {},
   "outputs": [],
   "source": []
  },
  {
   "cell_type": "code",
   "execution_count": 30,
   "metadata": {},
   "outputs": [],
   "source": [
    "sig3 = np.concatenate((signal*2, signal))"
   ]
  },
  {
   "cell_type": "code",
   "execution_count": 31,
   "metadata": {},
   "outputs": [
    {
     "name": "stdout",
     "output_type": "stream",
     "text": [
      "Channel names are not unique, found duplicates for: {'One'}. Applying running numbers for duplicates.\n",
      "Creating RawArray with float64 data, n_channels=2, n_times=20001\n",
      "    Range : 0 ... 20000 =      0.000 ...    20.000 secs\n",
      "Ready.\n"
     ]
    },
    {
     "name": "stderr",
     "output_type": "stream",
     "text": [
      "<ipython-input-31-567c27810c95>:1: RuntimeWarning: Channel names are not unique, found duplicates for: {'One'}. Applying running numbers for duplicates.\n",
      "  data2 = mne.io.RawArray(sig3,mne.create_info(['One','One'],1000,ch_types=['eeg','eeg']))\n"
     ]
    }
   ],
   "source": [
    "data2 = mne.io.RawArray(sig3,mne.create_info(['One','One'],1000,ch_types=['eeg','eeg']))"
   ]
  },
  {
   "cell_type": "code",
   "execution_count": 37,
   "metadata": {},
   "outputs": [],
   "source": [
    "wykres2 = data2.plot(n_channels=2, scalings='auto', color='red')"
   ]
  },
  {
   "cell_type": "code",
   "execution_count": null,
   "metadata": {},
   "outputs": [],
   "source": []
  },
  {
   "cell_type": "code",
   "execution_count": null,
   "metadata": {},
   "outputs": [],
   "source": []
  },
  {
   "cell_type": "code",
   "execution_count": null,
   "metadata": {},
   "outputs": [],
   "source": []
  },
  {
   "cell_type": "code",
   "execution_count": null,
   "metadata": {},
   "outputs": [],
   "source": []
  },
  {
   "cell_type": "code",
   "execution_count": null,
   "metadata": {},
   "outputs": [],
   "source": []
  },
  {
   "cell_type": "code",
   "execution_count": null,
   "metadata": {},
   "outputs": [],
   "source": []
  },
  {
   "cell_type": "code",
   "execution_count": 12,
   "metadata": {},
   "outputs": [
    {
     "name": "stdout",
     "output_type": "stream",
     "text": [
      "Effective window size : 2.048 (s)\n",
      "Need more than one channel to make topography for eeg. Disabling interactivity.\n"
     ]
    },
    {
     "data": {
      "text/plain": [
       "<Figure size 640x480 with 1 Axes>"
      ]
     },
     "execution_count": 12,
     "metadata": {},
     "output_type": "execute_result"
    }
   ],
   "source": [
    "data.plot_psd()"
   ]
  },
  {
   "cell_type": "code",
   "execution_count": 13,
   "metadata": {},
   "outputs": [
    {
     "name": "stdout",
     "output_type": "stream",
     "text": [
      "Setting up high-pass filter at 1 Hz\n",
      "l_trans_bandwidth chosen to be 1.0 Hz\n",
      "Filter length of 3301 samples (3.301 sec) selected\n",
      "Setting up low-pass filter at 80 Hz\n",
      "h_trans_bandwidth chosen to be 20.0 Hz\n",
      "Filter length of 165 samples (0.165 sec) selected\n"
     ]
    },
    {
     "data": {
      "text/plain": [
       "<RawArray  |  None, n_channels x n_times : 1 x 20001 (20.0 sec), ~163 kB, data loaded>"
      ]
     },
     "execution_count": 13,
     "metadata": {},
     "output_type": "execute_result"
    }
   ],
   "source": [
    "data.filter(l_freq=1, h_freq=None)\n",
    "data.filter(l_freq=None, h_freq=80)"
   ]
  },
  {
   "cell_type": "code",
   "execution_count": 14,
   "metadata": {},
   "outputs": [
    {
     "name": "stdout",
     "output_type": "stream",
     "text": [
      "Setting up band-stop filter from 49 - 51 Hz\n",
      "Filter length of 6601 samples (6.601 sec) selected\n"
     ]
    },
    {
     "data": {
      "text/plain": [
       "<RawArray  |  None, n_channels x n_times : 1 x 20001 (20.0 sec), ~163 kB, data loaded>"
      ]
     },
     "execution_count": 14,
     "metadata": {},
     "output_type": "execute_result"
    },
    {
     "name": "stdout",
     "output_type": "stream",
     "text": [
      "Attempting to create new mne-python configuration file:\n",
      "C:\\Users\\marcin\\.mne\\mne-python.json\n"
     ]
    }
   ],
   "source": [
    "data.notch_filter(freqs=50)"
   ]
  }
 ],
 "metadata": {
  "kernelspec": {
   "display_name": "MNE",
   "language": "python",
   "name": "mne"
  },
  "language_info": {
   "codemirror_mode": {
    "name": "ipython",
    "version": 3
   },
   "file_extension": ".py",
   "mimetype": "text/x-python",
   "name": "python",
   "nbconvert_exporter": "python",
   "pygments_lexer": "ipython3",
   "version": "3.6.6"
  }
 },
 "nbformat": 4,
 "nbformat_minor": 2
}
